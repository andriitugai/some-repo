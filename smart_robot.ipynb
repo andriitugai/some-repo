{
 "cells": [
  {
   "cell_type": "code",
   "execution_count": 1,
   "metadata": {},
   "outputs": [],
   "source": [
    "import bokeh"
   ]
  },
  {
   "cell_type": "code",
   "execution_count": 2,
   "metadata": {},
   "outputs": [
    {
     "data": {
      "text/plain": [
       "['__all__',\n",
       " '__builtins__',\n",
       " '__cached__',\n",
       " '__doc__',\n",
       " '__file__',\n",
       " '__loader__',\n",
       " '__name__',\n",
       " '__package__',\n",
       " '__path__',\n",
       " '__spec__',\n",
       " '__version__',\n",
       " '_version',\n",
       " 'absolute_import',\n",
       " 'division',\n",
       " 'license',\n",
       " 'log',\n",
       " 'logging',\n",
       " 'original_formatwarning',\n",
       " 'print_function',\n",
       " 'sampledata',\n",
       " 'settings',\n",
       " 'unicode_literals',\n",
       " 'util']"
      ]
     },
     "execution_count": 2,
     "metadata": {},
     "output_type": "execute_result"
    }
   ],
   "source": [
    "dir(bokeh)"
   ]
  },
  {
   "cell_type": "code",
   "execution_count": 3,
   "metadata": {},
   "outputs": [
    {
     "data": {
      "text/plain": [
       "('__version__', 'license', 'sampledata')"
      ]
     },
     "execution_count": 3,
     "metadata": {},
     "output_type": "execute_result"
    }
   ],
   "source": [
    "bokeh.__all__"
   ]
  },
  {
   "cell_type": "code",
   "execution_count": 39,
   "metadata": {},
   "outputs": [],
   "source": [
    "import datetime\n",
    "import difflib\n",
    "\n",
    "\n",
    "vocabulary = {\n",
    "    \"hello\" : \"Hi there!\",\n",
    "    \"what's your name\" : \"My name is Roboto!\",\n",
    "    \"what is your name\" : \"My name is Roboto!\",\n",
    "    \"bye\" : \"Goodbye!\",\n",
    "    \"what time is it\" : datetime.datetime.now().strftime(\"%H:%M\")\n",
    "}\n",
    "\n",
    "def best_key(phrase, keys):\n",
    "    '''Returns key from keys, which has highest\n",
    "    similarity ratio\n",
    "    '''\n",
    "    maxkeys = difflib.get_close_matches(phrase, keys, n=1, cutoff=0.0001)\n",
    "    return maxkeys and maxkeys[0]\n",
    "\n",
    "def talk(query, vocabulary):\n",
    "\n",
    "    key = best_key(query, vocabulary.keys())    \n",
    "    if key:\n",
    "        return vocabulary[key]\n",
    "    \n",
    "    return \"I don't understand that!\"\n",
    "\n"
   ]
  },
  {
   "cell_type": "code",
   "execution_count": 40,
   "metadata": {},
   "outputs": [
    {
     "data": {
      "text/plain": [
       "'22:50'"
      ]
     },
     "execution_count": 40,
     "metadata": {},
     "output_type": "execute_result"
    }
   ],
   "source": [
    "talk('tell me the time', vocabulary)"
   ]
  },
  {
   "cell_type": "code",
   "execution_count": 35,
   "metadata": {},
   "outputs": [
    {
     "name": "stdout",
     "output_type": "stream",
     "text": [
      "[{'key': 'hello', 'ratio': 0.7272727272727273},\n",
      " {'key': \"what's your name\", 'ratio': 0.09090909090909091},\n",
      " {'key': 'what is your name', 'ratio': 0.08695652173913043},\n",
      " {'key': 'bye', 'ratio': 0.2222222222222222},\n",
      " {'key': 'what time is it', 'ratio': 0.09523809523809523}]\n"
     ]
    }
   ],
   "source": [
    "    from pprint import pprint\n",
    "    phrase = 'Hello!'\n",
    "    keys = vocabulary.keys()\n",
    "    ratios = [{\n",
    "        'key' : key, \n",
    "        'ratio' : difflib.SequenceMatcher(None, phrase, key).ratio()\n",
    "    } for key in keys]\n",
    "    pprint(ratios)"
   ]
  },
  {
   "cell_type": "code",
   "execution_count": 32,
   "metadata": {},
   "outputs": [],
   "source": [
    "import operator"
   ]
  },
  {
   "cell_type": "code",
   "execution_count": 37,
   "metadata": {},
   "outputs": [
    {
     "name": "stdout",
     "output_type": "stream",
     "text": [
      "[{'key': 'hello', 'ratio': 0.7272727272727273},\n",
      " {'key': 'bye', 'ratio': 0.2222222222222222},\n",
      " {'key': 'what time is it', 'ratio': 0.09523809523809523},\n",
      " {'key': \"what's your name\", 'ratio': 0.09090909090909091},\n",
      " {'key': 'what is your name', 'ratio': 0.08695652173913043}]\n"
     ]
    }
   ],
   "source": [
    "ratios_by_ratio = sorted(ratios, key=operator.itemgetter('ratio'), reverse=True)\n",
    "pprint(ratios_by_ratio)"
   ]
  },
  {
   "cell_type": "code",
   "execution_count": null,
   "metadata": {},
   "outputs": [],
   "source": []
  }
 ],
 "metadata": {
  "kernelspec": {
   "display_name": "Python 3",
   "language": "python",
   "name": "python3"
  },
  "language_info": {
   "codemirror_mode": {
    "name": "ipython",
    "version": 3
   },
   "file_extension": ".py",
   "mimetype": "text/x-python",
   "name": "python",
   "nbconvert_exporter": "python",
   "pygments_lexer": "ipython3",
   "version": "3.7.5rc1"
  }
 },
 "nbformat": 4,
 "nbformat_minor": 2
}
